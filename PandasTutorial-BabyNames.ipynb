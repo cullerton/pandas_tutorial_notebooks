{
 "metadata": {
  "name": ""
 },
 "nbformat": 3,
 "nbformat_minor": 0,
 "worksheets": [
  {
   "cells": [
    {
     "cell_type": "heading",
     "level": 1,
     "metadata": {},
     "source": [
      "Pandas Tutorial - Baby Names Data"
     ]
    },
    {
     "cell_type": "raw",
     "metadata": {},
     "source": [
      "This notebook is based on the BabyNames notebook Wes McKinney used during his tutorial at PyCon 2012. \n",
      "Video of the tutorial is available at https://www.youtube.com/watch?v=w26x-z-BdWQ \n",
      "His original notebooks are available at http://ow.ly/9w92O"
     ]
    },
    {
     "cell_type": "heading",
     "level": 2,
     "metadata": {},
     "source": [
      "Import Pandas and read in our data"
     ]
    },
    {
     "cell_type": "code",
     "collapsed": false,
     "input": [
      "import pandas as pd"
     ],
     "language": "python",
     "metadata": {},
     "outputs": [],
     "prompt_number": 1
    },
    {
     "cell_type": "code",
     "collapsed": false,
     "input": [
      "# some options to control output in the browser\n",
      "\n",
      "# pd.set_option('html', False)\n",
      "# pd.set_option(\"display.max_columns\",50)\n",
      "# pd.set_option(\"display.max_rows\",None)\n",
      "# pd.set_option(\"display.line_width\",300)"
     ],
     "language": "python",
     "metadata": {},
     "outputs": [],
     "prompt_number": 2
    },
    {
     "cell_type": "code",
     "collapsed": false,
     "input": [
      "# baby-names2.csv must exist in the same directory from which you started ipython notebook\n",
      "names = pd.read_csv('baby-names2.csv')"
     ],
     "language": "python",
     "metadata": {},
     "outputs": [],
     "prompt_number": 3
    },
    {
     "cell_type": "code",
     "collapsed": false,
     "input": [
      "names"
     ],
     "language": "python",
     "metadata": {},
     "outputs": [],
     "prompt_number": 7
    },
    {
     "cell_type": "code",
     "collapsed": true,
     "input": [
      "names.info()"
     ],
     "language": "python",
     "metadata": {},
     "outputs": [],
     "prompt_number": 8
    },
    {
     "cell_type": "code",
     "collapsed": true,
     "input": [
      "names.head()"
     ],
     "language": "python",
     "metadata": {},
     "outputs": [],
     "prompt_number": 12
    },
    {
     "cell_type": "code",
     "collapsed": false,
     "input": [
      "# Separate the boys and girls\n",
      "boys = names[names.sex=='boy']\n",
      "girls = names[names.sex=='girl']"
     ],
     "language": "python",
     "metadata": {},
     "outputs": [],
     "prompt_number": 4
    },
    {
     "cell_type": "heading",
     "level": 2,
     "metadata": {},
     "source": [
      "Grouping"
     ]
    },
    {
     "cell_type": "code",
     "collapsed": false,
     "input": [
      "boys.groupby('year')"
     ],
     "language": "python",
     "metadata": {},
     "outputs": [],
     "prompt_number": 90
    },
    {
     "cell_type": "raw",
     "metadata": {},
     "source": [
      "This gives us a GroupBy object. It hasn't retrieved the data yet, it just knows how.\n",
      "We can then do something with the GroupBy object."
     ]
    },
    {
     "cell_type": "code",
     "collapsed": true,
     "input": [
      "# number of records\n",
      "boys.groupby('year').size()"
     ],
     "language": "python",
     "metadata": {},
     "outputs": [],
     "prompt_number": 9
    },
    {
     "cell_type": "heading",
     "level": 3,
     "metadata": {},
     "source": [
      "Group by with 2 levels"
     ]
    },
    {
     "cell_type": "code",
     "collapsed": false,
     "input": [
      "grouped = names.groupby(['year', 'sex'])"
     ],
     "language": "python",
     "metadata": {},
     "outputs": [],
     "prompt_number": 13
    },
    {
     "cell_type": "code",
     "collapsed": false,
     "input": [
      "# this gives us a hierarchical index\n",
      "grouped.size()"
     ],
     "language": "python",
     "metadata": {},
     "outputs": [],
     "prompt_number": 14
    },
    {
     "cell_type": "code",
     "collapsed": true,
     "input": [
      "type(grouped.size())"
     ],
     "language": "python",
     "metadata": {},
     "outputs": [],
     "prompt_number": 15
    },
    {
     "cell_type": "code",
     "collapsed": true,
     "input": [
      "# grab data for the year 2000\n",
      "grouped.size().ix[2000]"
     ],
     "language": "python",
     "metadata": {},
     "outputs": [],
     "prompt_number": 16
    },
    {
     "cell_type": "heading",
     "level": 2,
     "metadata": {},
     "source": [
      "Popularity of Names"
     ]
    },
    {
     "cell_type": "heading",
     "level": 3,
     "metadata": {},
     "source": [
      "Most popular boy name in 1963"
     ]
    },
    {
     "cell_type": "code",
     "collapsed": true,
     "input": [
      "# prop values in 1963\n",
      "boys[boys.year == 1963].prop"
     ],
     "language": "python",
     "metadata": {},
     "outputs": [],
     "prompt_number": 11
    },
    {
     "cell_type": "code",
     "collapsed": true,
     "input": [
      "# index of max prop value in 1963\n",
      "boys[boys.year == 1963].prop.idxmax()"
     ],
     "language": "python",
     "metadata": {},
     "outputs": [],
     "prompt_number": 34
    },
    {
     "cell_type": "code",
     "collapsed": true,
     "input": [
      "# pass the index to ix to get record\n",
      "boys.ix[boys[boys.year == 1963].prop.idxmax()]"
     ],
     "language": "python",
     "metadata": {},
     "outputs": [],
     "prompt_number": 35
    },
    {
     "cell_type": "heading",
     "level": 3,
     "metadata": {},
     "source": [
      "Abstract to all years"
     ]
    },
    {
     "cell_type": "code",
     "collapsed": false,
     "input": [
      "def get_max_record(group):\n",
      "    return group.ix[group.prop.idxmax()]"
     ],
     "language": "python",
     "metadata": {},
     "outputs": [],
     "prompt_number": 37
    },
    {
     "cell_type": "code",
     "collapsed": false,
     "input": [
      "# highest record for entire data set\n",
      "get_max_record(boys)"
     ],
     "language": "python",
     "metadata": {},
     "outputs": [],
     "prompt_number": 39
    },
    {
     "cell_type": "code",
     "collapsed": false,
     "input": [
      "# highest record for each year in data set\n",
      "result = boys.groupby('year').apply(get_max_record)"
     ],
     "language": "python",
     "metadata": {},
     "outputs": [],
     "prompt_number": 43
    },
    {
     "cell_type": "code",
     "collapsed": false,
     "input": [
      "result"
     ],
     "language": "python",
     "metadata": {},
     "outputs": [],
     "prompt_number": 44
    },
    {
     "cell_type": "heading",
     "level": 3,
     "metadata": {},
     "source": [
      "Plot the results"
     ]
    },
    {
     "cell_type": "code",
     "collapsed": false,
     "input": [
      "result.prop.plot()"
     ],
     "language": "python",
     "metadata": {},
     "outputs": [],
     "prompt_number": 46
    },
    {
     "cell_type": "code",
     "collapsed": false,
     "input": [],
     "language": "python",
     "metadata": {},
     "outputs": []
    },
    {
     "cell_type": "heading",
     "level": 2,
     "metadata": {},
     "source": [
      "Indexing"
     ]
    },
    {
     "cell_type": "code",
     "collapsed": true,
     "input": [
      "boys"
     ],
     "language": "python",
     "metadata": {},
     "outputs": [],
     "prompt_number": 29
    },
    {
     "cell_type": "raw",
     "metadata": {},
     "source": [
      "If we want to grab out all the 'Michael' data, we could ask for all the data where name == 'Michael'"
     ]
    },
    {
     "cell_type": "code",
     "collapsed": true,
     "input": [
      "boys[boys.name == 'Michael']"
     ],
     "language": "python",
     "metadata": {},
     "outputs": [],
     "prompt_number": 47
    },
    {
     "cell_type": "raw",
     "metadata": {},
     "source": [
      "But, this has to do a comparison for *every record* in the data set.\n",
      "\n",
      "Notice that each record is uniquely identified by a name and year.\n",
      "\n",
      "We can create an index based on this unique identification."
     ]
    },
    {
     "cell_type": "code",
     "collapsed": false,
     "input": [
      "idf = boys.set_index(['name', 'year'])"
     ],
     "language": "python",
     "metadata": {},
     "outputs": [],
     "prompt_number": 49
    },
    {
     "cell_type": "raw",
     "metadata": {},
     "source": [
      "Notice the index is now a tuple of name and year."
     ]
    },
    {
     "cell_type": "code",
     "collapsed": false,
     "input": [
      "idf.info()"
     ],
     "language": "python",
     "metadata": {},
     "outputs": [],
     "prompt_number": 50
    },
    {
     "cell_type": "code",
     "collapsed": false,
     "input": [
      "idf[:10]"
     ],
     "language": "python",
     "metadata": {},
     "outputs": [],
     "prompt_number": 52
    },
    {
     "cell_type": "raw",
     "metadata": {},
     "source": [
      "If we grab out all the 'Michael' data, we should get data by year."
     ]
    },
    {
     "cell_type": "code",
     "collapsed": true,
     "input": [
      "idf.ix['Michael']"
     ],
     "language": "python",
     "metadata": {},
     "outputs": [],
     "prompt_number": 53
    },
    {
     "cell_type": "code",
     "collapsed": false,
     "input": [
      "idf.ix['Michael'].plot()"
     ],
     "language": "python",
     "metadata": {},
     "outputs": [],
     "prompt_number": 54
    },
    {
     "cell_type": "code",
     "collapsed": false,
     "input": [],
     "language": "python",
     "metadata": {},
     "outputs": [],
     "prompt_number": 54
    },
    {
     "cell_type": "heading",
     "level": 2,
     "metadata": {},
     "source": [
      "Basic statistics with grouped data"
     ]
    },
    {
     "cell_type": "raw",
     "metadata": {},
     "source": [
      "Group the boys by name, and grab the prop column"
     ]
    },
    {
     "cell_type": "code",
     "collapsed": false,
     "input": [
      "grouped = boys.groupby('name')['prop']"
     ],
     "language": "python",
     "metadata": {},
     "outputs": [],
     "prompt_number": 98
    },
    {
     "cell_type": "code",
     "collapsed": false,
     "input": [
      "grouped"
     ],
     "language": "python",
     "metadata": {},
     "outputs": [],
     "prompt_number": 99
    },
    {
     "cell_type": "raw",
     "metadata": {},
     "source": [
      "2 different ways to obtain the mean"
     ]
    },
    {
     "cell_type": "code",
     "collapsed": false,
     "input": [
      "grouped.mean()"
     ],
     "language": "python",
     "metadata": {},
     "outputs": [],
     "prompt_number": 100
    },
    {
     "cell_type": "code",
     "collapsed": false,
     "input": [
      "grouped.apply(mean)"
     ],
     "language": "python",
     "metadata": {},
     "outputs": [],
     "prompt_number": 101
    },
    {
     "cell_type": "code",
     "collapsed": false,
     "input": [
      "grouped.mean().order()"
     ],
     "language": "python",
     "metadata": {},
     "outputs": [],
     "prompt_number": 102
    },
    {
     "cell_type": "raw",
     "metadata": {},
     "source": [
      "The describe method"
     ]
    },
    {
     "cell_type": "code",
     "collapsed": true,
     "input": [
      "grouped.describe()"
     ],
     "language": "python",
     "metadata": {},
     "outputs": [],
     "prompt_number": 103
    },
    {
     "cell_type": "heading",
     "level": 2,
     "metadata": {},
     "source": [
      "Diversity Number"
     ]
    },
    {
     "cell_type": "raw",
     "metadata": {},
     "source": [
      "The 50% number\n",
      "\n",
      "If we add up the proportion of the most popular names, how many names does it take to reach 50% of the population."
     ]
    },
    {
     "cell_type": "code",
     "collapsed": false,
     "input": [
      "# sort 2008 data by the prop column\n",
      "df_2008 = boys[boys.year == 2008].sort_index(by='prop',ascending=False)"
     ],
     "language": "python",
     "metadata": {},
     "outputs": [],
     "prompt_number": 5
    },
    {
     "cell_type": "code",
     "collapsed": false,
     "input": [
      "df_2008.head()"
     ],
     "language": "python",
     "metadata": {},
     "outputs": [],
     "prompt_number": 6
    },
    {
     "cell_type": "code",
     "collapsed": false,
     "input": [
      "# look at the cumulative sum\n",
      "df_2008.prop.cumsum()"
     ],
     "language": "python",
     "metadata": {},
     "outputs": [],
     "prompt_number": 7
    },
    {
     "cell_type": "code",
     "collapsed": true,
     "input": [
      "# an array of the values\n",
      "df_2008.prop.values.cumsum()"
     ],
     "language": "python",
     "metadata": {},
     "outputs": [],
     "prompt_number": 9
    },
    {
     "cell_type": "raw",
     "metadata": {},
     "source": [
      "searchsorted returns the index where a sorted series reaches the given value"
     ]
    },
    {
     "cell_type": "code",
     "collapsed": false,
     "input": [
      "# where do we reach 50% in 2008\n",
      "df_2008.prop.values.cumsum().searchsorted(0.5)"
     ],
     "language": "python",
     "metadata": {},
     "outputs": [],
     "prompt_number": 10
    },
    {
     "cell_type": "code",
     "collapsed": false,
     "input": [
      "df_2008.prop.cumsum()[125:130]"
     ],
     "language": "python",
     "metadata": {},
     "outputs": [],
     "prompt_number": 11
    },
    {
     "cell_type": "code",
     "collapsed": false,
     "input": [
      "# where did we reach 50% in 1880\n",
      "df_1880 = boys[boys.year == 1880].sort_index(by='prop',ascending=False)\n",
      "df_1880.prop.values.cumsum().searchsorted(0.5)"
     ],
     "language": "python",
     "metadata": {},
     "outputs": [],
     "prompt_number": 12
    },
    {
     "cell_type": "raw",
     "metadata": {},
     "source": [
      "Let's abstract the math so we can graph the number over time"
     ]
    },
    {
     "cell_type": "code",
     "collapsed": false,
     "input": [
      "def get_quantile_count(group, quantile=0.5):\n",
      "    df = group.sort_index(by='prop', ascending=False)\n",
      "    return df.prop.values.cumsum().searchsorted(quantile)"
     ],
     "language": "python",
     "metadata": {},
     "outputs": [],
     "prompt_number": 98
    },
    {
     "cell_type": "code",
     "collapsed": true,
     "input": [
      "boys.groupby('year').apply(get_quantile_count)"
     ],
     "language": "python",
     "metadata": {},
     "outputs": [],
     "prompt_number": 104
    },
    {
     "cell_type": "raw",
     "metadata": {},
     "source": [
      "Plot the boys 50% number"
     ]
    },
    {
     "cell_type": "code",
     "collapsed": false,
     "input": [
      "boys.groupby('year').apply(get_quantile_count).plot()"
     ],
     "language": "python",
     "metadata": {},
     "outputs": [],
     "prompt_number": 103
    },
    {
     "cell_type": "raw",
     "metadata": {},
     "source": [
      "Plot the boys and girls 50% number together"
     ]
    },
    {
     "cell_type": "code",
     "collapsed": false,
     "input": [
      "boy_ct = boys.groupby('year').apply(get_quantile_count)\n",
      "girl_ct = girls.groupby('year').apply(get_quantile_count)\n",
      "boy_ct.plot(label='boys')\n",
      "girl_ct.plot(label='girls')\n",
      "legend(loc='best')"
     ],
     "language": "python",
     "metadata": {},
     "outputs": [],
     "prompt_number": 102
    },
    {
     "cell_type": "raw",
     "metadata": {},
     "source": [
      "Plot the boys and girls 10% number"
     ]
    },
    {
     "cell_type": "code",
     "collapsed": false,
     "input": [
      "boy_ct = boys.groupby('year').apply(get_quantile_count, quantile=0.1)\n",
      "girl_ct = girls.groupby('year').apply(get_quantile_count, quantile=0.1)\n",
      "boy_ct.plot(label='boys')\n",
      "girl_ct.plot(label='girls')\n",
      "legend(loc='best')"
     ],
     "language": "python",
     "metadata": {},
     "outputs": [],
     "prompt_number": 105
    },
    {
     "cell_type": "heading",
     "level": 3,
     "metadata": {},
     "source": [
      "Add a ranking to the data set"
     ]
    },
    {
     "cell_type": "code",
     "collapsed": false,
     "input": [
      "# rank the props within each year\n",
      "boys.groupby('year').prop"
     ],
     "language": "python",
     "metadata": {},
     "outputs": [],
     "prompt_number": 15
    },
    {
     "cell_type": "code",
     "collapsed": false,
     "input": [
      "boys.groupby('year')['prop']"
     ],
     "language": "python",
     "metadata": {},
     "outputs": [],
     "prompt_number": 16
    },
    {
     "cell_type": "code",
     "collapsed": false,
     "input": [
      "# grab the prop column grouped by year\n",
      "grouped = boys.groupby('year')['prop']\n",
      "\n",
      "grouped.head()"
     ],
     "language": "python",
     "metadata": {},
     "outputs": [],
     "prompt_number": 21
    },
    {
     "cell_type": "code",
     "collapsed": false,
     "input": [
      "# add a ranking based on the grouped prop values, where 1000 is best for a year\n",
      "boys['year_rank'] = grouped.transform(pd.Series.rank)"
     ],
     "language": "python",
     "metadata": {},
     "outputs": []
    },
    {
     "cell_type": "code",
     "collapsed": false,
     "input": [
      "boys.head()"
     ],
     "language": "python",
     "metadata": {},
     "outputs": [],
     "prompt_number": 19
    },
    {
     "cell_type": "heading",
     "level": 4,
     "metadata": {},
     "source": [
      "Plot the rank for 'Michael'"
     ]
    },
    {
     "cell_type": "code",
     "collapsed": false,
     "input": [
      "boys[boys.name == 'Michael'].year_rank.plot()"
     ],
     "language": "python",
     "metadata": {},
     "outputs": [],
     "prompt_number": 28
    },
    {
     "cell_type": "heading",
     "level": 4,
     "metadata": {},
     "source": [
      "Change x-axis to years"
     ]
    },
    {
     "cell_type": "code",
     "collapsed": false,
     "input": [
      "idf = boys.set_index(['name','year'])\n",
      "idf.info()"
     ],
     "language": "python",
     "metadata": {},
     "outputs": [],
     "prompt_number": 114
    },
    {
     "cell_type": "code",
     "collapsed": false,
     "input": [
      "idf.ix['Michael'].year_rank.plot()"
     ],
     "language": "python",
     "metadata": {},
     "outputs": [],
     "prompt_number": 115
    },
    {
     "cell_type": "heading",
     "level": 2,
     "metadata": {},
     "source": [
      "Merging"
     ]
    },
    {
     "cell_type": "code",
     "collapsed": false,
     "input": [
      "# read in new data\n",
      "births = pd.read_csv('births.csv')"
     ],
     "language": "python",
     "metadata": {},
     "outputs": [],
     "prompt_number": 80
    },
    {
     "cell_type": "raw",
     "metadata": {},
     "source": [
      "Notice that both data sets have year and sex columns"
     ]
    },
    {
     "cell_type": "code",
     "collapsed": false,
     "input": [
      "names.info()"
     ],
     "language": "python",
     "metadata": {},
     "outputs": [],
     "prompt_number": 117
    },
    {
     "cell_type": "code",
     "collapsed": false,
     "input": [
      "births.info()"
     ],
     "language": "python",
     "metadata": {},
     "outputs": [],
     "prompt_number": 118
    },
    {
     "cell_type": "raw",
     "metadata": {},
     "source": [
      "You can investigate methods in ipython with a '?'"
     ]
    },
    {
     "cell_type": "code",
     "collapsed": false,
     "input": [
      "pd.merge?"
     ],
     "language": "python",
     "metadata": {},
     "outputs": [],
     "prompt_number": 29
    },
    {
     "cell_type": "code",
     "collapsed": false,
     "input": [
      "merged = pd.merge(names, births, on=['year','sex'])"
     ],
     "language": "python",
     "metadata": {},
     "outputs": [],
     "prompt_number": 81
    },
    {
     "cell_type": "code",
     "collapsed": false,
     "input": [
      "merged.info()"
     ],
     "language": "python",
     "metadata": {},
     "outputs": [],
     "prompt_number": 127
    },
    {
     "cell_type": "raw",
     "metadata": {},
     "source": [
      "This would have been smart enough"
     ]
    },
    {
     "cell_type": "code",
     "collapsed": false,
     "input": [
      "merged = pd.merge(names, births)"
     ],
     "language": "python",
     "metadata": {},
     "outputs": [],
     "prompt_number": 128
    },
    {
     "cell_type": "code",
     "collapsed": false,
     "input": [
      "merged.info()"
     ],
     "language": "python",
     "metadata": {},
     "outputs": [],
     "prompt_number": 129
    },
    {
     "cell_type": "raw",
     "metadata": {},
     "source": [
      "Notice the births is the same for every record in a year (for the same sex)."
     ]
    },
    {
     "cell_type": "code",
     "collapsed": false,
     "input": [
      "merged.head()"
     ],
     "language": "python",
     "metadata": {},
     "outputs": [],
     "prompt_number": 86
    },
    {
     "cell_type": "code",
     "collapsed": false,
     "input": [
      "# add persons column for number of persons with a given name each year\n",
      "merged['persons'] = np.floor(merged.prop * merged.births)"
     ],
     "language": "python",
     "metadata": {},
     "outputs": [],
     "prompt_number": 87
    },
    {
     "cell_type": "code",
     "collapsed": false,
     "input": [
      "merged.head()"
     ],
     "language": "python",
     "metadata": {},
     "outputs": [],
     "prompt_number": 88
    },
    {
     "cell_type": "code",
     "collapsed": false,
     "input": [
      "# get the total number of births for each name/sex combination\n",
      "merged.groupby(['name','sex'])['persons'].sum()"
     ],
     "language": "python",
     "metadata": {},
     "outputs": [],
     "prompt_number": 132
    },
    {
     "cell_type": "code",
     "collapsed": false,
     "input": [
      "# sort the totals\n",
      "merged.groupby(['name','sex'])['persons'].sum().order()"
     ],
     "language": "python",
     "metadata": {},
     "outputs": [],
     "prompt_number": 133
    },
    {
     "cell_type": "heading",
     "level": 2,
     "metadata": {},
     "source": [
      "Pivot tables"
     ]
    },
    {
     "cell_type": "code",
     "collapsed": false,
     "input": [
      "mboys = pd.merge(boys, births)\n",
      "mboys['persons'] = np.floor(mboys.prop * mboys.births)\n",
      "persons = mboys.set_index(['year','name']).persons"
     ],
     "language": "python",
     "metadata": {},
     "outputs": [],
     "prompt_number": 105
    },
    {
     "cell_type": "code",
     "collapsed": false,
     "input": [
      "persons"
     ],
     "language": "python",
     "metadata": {},
     "outputs": [],
     "prompt_number": 106
    },
    {
     "cell_type": "code",
     "collapsed": false,
     "input": [
      "persons.unstack('name')"
     ],
     "language": "python",
     "metadata": {},
     "outputs": [],
     "prompt_number": 107
    },
    {
     "cell_type": "code",
     "collapsed": false,
     "input": [
      "# ipython caches the 3 previous results in _, __, and ___.\n",
      "result = _"
     ],
     "language": "python",
     "metadata": {},
     "outputs": [],
     "prompt_number": 108
    },
    {
     "cell_type": "code",
     "collapsed": false,
     "input": [
      "result['Michael']"
     ],
     "language": "python",
     "metadata": {},
     "outputs": [],
     "prompt_number": 109
    },
    {
     "cell_type": "code",
     "collapsed": false,
     "input": [
      "result['Michael'].plot()"
     ],
     "language": "python",
     "metadata": {},
     "outputs": [],
     "prompt_number": 110
    },
    {
     "cell_type": "heading",
     "level": 4,
     "metadata": {},
     "source": [
      "Note that persons has not changed"
     ]
    },
    {
     "cell_type": "code",
     "collapsed": false,
     "input": [
      "persons"
     ],
     "language": "python",
     "metadata": {},
     "outputs": [],
     "prompt_number": 113
    },
    {
     "cell_type": "raw",
     "metadata": {},
     "source": [
      "Mike Cullerton, 2014"
     ]
    }
   ],
   "metadata": {}
  }
 ]
}